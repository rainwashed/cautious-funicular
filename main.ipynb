{
 "cells": [
  {
   "cell_type": "code",
   "execution_count": 9,
   "metadata": {},
   "outputs": [],
   "source": [
    "import pandas\n",
    "\n",
    "labels = [\"id\", \"survived\", \"class\", \"sex\", \"age\", \"sibling/spouse\", \"parent/children\"]\n",
    "data = pandas.read_csv(\"./train.modified.csv\")\n",
    "\n",
    "for index, value in data[\"Sex\"].items():\n",
    "    if value == \"male\":\n",
    "        data.loc[index, \"Sex\"] = 0\n",
    "    else:\n",
    "        data.loc[index, \"Sex\"] = 1\n",
    "\n",
    "data = data.fillna(0)\n",
    "\n",
    "data[\"Age\"] = (data[\"Age\"] - data[\"Age\"].min()) / (data[\"Age\"].max() - data[\"Age\"].min())\n",
    "\n",
    "data.to_csv(\"./train.processed.csv\", index=False)\n",
    "\n",
    "# thanks chatGPT for helping me write this"
   ]
  },
  {
   "cell_type": "code",
   "execution_count": 17,
   "metadata": {},
   "outputs": [
    {
     "data": {
      "text/plain": [
       "torch.Size([891, 5])"
      ]
     },
     "execution_count": 17,
     "metadata": {},
     "output_type": "execute_result"
    }
   ],
   "source": [
    "import pandas\n",
    "from torch import tensor, float32\n",
    "labels = [\"id\", \"survived\", \"class\", \"sex\", \"age\", \"sibling/spouse\", \"parent/children\"]\n",
    "\n",
    "data = pandas.read_csv(\"./train.processed.csv\")\n",
    "\n",
    "results = tensor(data[\"Survived\"].values, dtype=float32)\n",
    "details = tensor(data.iloc[:, 2:7].values, dtype=float32)\n",
    "\n",
    "details.shape"
   ]
  },
  {
   "cell_type": "code",
   "execution_count": 18,
   "metadata": {},
   "outputs": [
    {
     "name": "stdout",
     "output_type": "stream",
     "text": [
      "using device: mps\n",
      "NeuralNet(\n",
      "  (stack): Sequential(\n",
      "    (0): Linear(in_features=5, out_features=5, bias=True)\n",
      "    (1): ReLU()\n",
      "    (2): Linear(in_features=5, out_features=10, bias=True)\n",
      "    (3): ReLU()\n",
      "    (4): Linear(in_features=10, out_features=2, bias=True)\n",
      "    (5): ReLU()\n",
      "    (6): Linear(in_features=2, out_features=1, bias=True)\n",
      "  )\n",
      ")\n"
     ]
    }
   ],
   "source": [
    "import torch\n",
    "from torch import nn\n",
    "\n",
    "device = \"mps\" if torch.backends.mps.is_available() else \"cpu\"\n",
    "\n",
    "print(\"using device: {}\".format(device))\n",
    "\n",
    "class NeuralNet(nn.Module):\n",
    "    def __init__(self):\n",
    "        super().__init__()\n",
    "        self.stack = nn.Sequential(\n",
    "            nn.Linear(5, 5),\n",
    "            nn.ReLU(),\n",
    "            nn.Linear(5, 10),\n",
    "            nn.ReLU(),\n",
    "            nn.Linear(10, 2),\n",
    "            nn.ReLU(),\n",
    "            nn.Linear(2, 1)\n",
    "        )\n",
    "\n",
    "    def forward(self, x):\n",
    "        logits = self.stack(x)\n",
    "        return logits\n",
    "\n",
    "# move data to gpu\n",
    "results.to(device)\n",
    "details.to(device)\n",
    "model = NeuralNet().to(device)\n",
    "\n",
    "print(model)"
   ]
  },
  {
   "cell_type": "code",
   "execution_count": 27,
   "metadata": {},
   "outputs": [
    {
     "data": {
      "text/plain": [
       "tensor([0.4285], device='mps:0', grad_fn=<LinearBackward0>)"
      ]
     },
     "execution_count": 27,
     "metadata": {},
     "output_type": "execute_result"
    }
   ],
   "source": [
    "x = torch.rand(5, device=device)\n",
    "logits = model(x)\n",
    "\n",
    "logits"
   ]
  },
  {
   "cell_type": "code",
   "execution_count": 33,
   "metadata": {},
   "outputs": [],
   "source": [
    "lr = 1e-3\n",
    "batch_size = 32\n",
    "epocs = 5\n",
    "lossFn = nn.BCELoss().to(device)\n",
    "optimizer = torch.optim.SGD(model.parameters(), lr=lr)"
   ]
  },
  {
   "cell_type": "code",
   "execution_count": 47,
   "metadata": {},
   "outputs": [
    {
     "name": "stdout",
     "output_type": "stream",
     "text": [
      "loss: 0.488635  [    0/  891]\n",
      "loss: 0.944967  [   50/  891]\n",
      "loss: 0.466464  [  100/  891]\n",
      "loss: 0.482291  [  150/  891]\n",
      "loss: 0.568158  [  200/  891]\n",
      "loss: 0.533208  [  250/  891]\n",
      "loss: 0.473202  [  300/  891]\n",
      "loss: 0.478832  [  350/  891]\n",
      "loss: 0.465933  [  400/  891]\n",
      "loss: 0.474556  [  450/  891]\n",
      "loss: 0.509157  [  500/  891]\n",
      "loss: 0.460563  [  550/  891]\n",
      "loss: 0.506610  [  600/  891]\n",
      "loss: 0.418356  [  650/  891]\n",
      "loss: 0.362833  [  700/  891]\n",
      "loss: 0.404046  [  750/  891]\n",
      "loss: 0.376982  [  800/  891]\n",
      "loss: 0.394200  [  850/  891]\n",
      "loss: 0.489955  [  900/  891]\n",
      "loss: 1.062258  [  950/  891]\n",
      "loss: 0.392167  [ 1000/  891]\n",
      "loss: 0.399525  [ 1050/  891]\n",
      "loss: 1.103586  [ 1100/  891]\n",
      "loss: 0.928531  [ 1150/  891]\n",
      "loss: 0.488090  [ 1200/  891]\n",
      "loss: 0.390322  [ 1250/  891]\n",
      "loss: 0.405791  [ 1300/  891]\n",
      "loss: 0.423995  [ 1350/  891]\n",
      "loss: 0.419297  [ 1400/  891]\n",
      "loss: 0.944889  [ 1450/  891]\n",
      "loss: 0.956516  [ 1500/  891]\n",
      "loss: 0.893496  [ 1550/  891]\n",
      "loss: 0.478592  [ 1600/  891]\n",
      "loss: 0.762664  [ 1650/  891]\n",
      "loss: 0.954388  [ 1700/  891]\n",
      "loss: 0.511592  [ 1750/  891]\n",
      "loss: 0.430088  [ 1800/  891]\n",
      "loss: 0.833095  [ 1850/  891]\n",
      "loss: 0.832133  [ 1900/  891]\n",
      "loss: 0.991905  [ 1950/  891]\n",
      "loss: 0.934321  [ 2000/  891]\n",
      "loss: 0.481060  [ 2050/  891]\n",
      "loss: 0.481275  [ 2100/  891]\n",
      "loss: 0.954588  [ 2150/  891]\n",
      "loss: 0.865878  [ 2200/  891]\n",
      "loss: 0.496219  [ 2250/  891]\n",
      "loss: 0.884929  [ 2300/  891]\n",
      "loss: 0.496845  [ 2350/  891]\n",
      "loss: 0.548284  [ 2400/  891]\n",
      "loss: 0.538589  [ 2450/  891]\n",
      "loss: 0.453480  [ 2500/  891]\n",
      "loss: 1.006863  [ 2550/  891]\n",
      "loss: 0.865178  [ 2600/  891]\n",
      "loss: 0.906760  [ 2650/  891]\n",
      "loss: 1.011245  [ 2700/  891]\n",
      "loss: 1.021802  [ 2750/  891]\n",
      "loss: 0.496282  [ 2800/  891]\n",
      "loss: 0.976551  [ 2850/  891]\n",
      "loss: 0.843693  [ 2900/  891]\n",
      "loss: 0.490091  [ 2950/  891]\n",
      "loss: 0.801536  [ 3000/  891]\n",
      "loss: 0.457523  [ 3050/  891]\n",
      "loss: 0.536391  [ 3100/  891]\n",
      "loss: 0.953622  [ 3150/  891]\n",
      "loss: 0.459319  [ 3200/  891]\n",
      "loss: 0.479662  [ 3250/  891]\n",
      "loss: 0.807450  [ 3300/  891]\n",
      "loss: 0.899315  [ 3350/  891]\n",
      "loss: 0.517859  [ 3400/  891]\n",
      "loss: 0.909288  [ 3450/  891]\n",
      "loss: 0.825402  [ 3500/  891]\n",
      "loss: 0.866119  [ 3550/  891]\n",
      "loss: 1.021579  [ 3600/  891]\n",
      "loss: 0.861661  [ 3650/  891]\n",
      "loss: 0.995387  [ 3700/  891]\n",
      "loss: 0.912405  [ 3750/  891]\n",
      "loss: 0.454055  [ 3800/  891]\n",
      "loss: 0.444108  [ 3850/  891]\n",
      "loss: 0.924071  [ 3900/  891]\n",
      "loss: 0.440873  [ 3950/  891]\n",
      "loss: 0.433245  [ 4000/  891]\n",
      "loss: 0.435906  [ 4050/  891]\n",
      "loss: 0.952184  [ 4100/  891]\n",
      "loss: 0.861816  [ 4150/  891]\n",
      "loss: 0.437833  [ 4200/  891]\n",
      "loss: 0.447083  [ 4250/  891]\n",
      "loss: 0.546567  [ 4300/  891]\n",
      "loss: 0.436035  [ 4350/  891]\n",
      "loss: 1.036468  [ 4400/  891]\n",
      "loss: 0.430779  [ 4450/  891]\n"
     ]
    }
   ],
   "source": [
    "def train(input, label, model, loss_fn, optimizer):\n",
    "    model.train()\n",
    "    \n",
    "    size = len(input)\n",
    "\n",
    "    for index, case in enumerate(input):\n",
    "        case = case.to(device)\n",
    "        pred = model(case)\n",
    "        correct = label[index].reshape(1)\n",
    "        correct = correct.to(device)\n",
    "        loss = loss_fn(pred, correct)\n",
    "\n",
    "        loss.backward()\n",
    "        optimizer.step()\n",
    "        optimizer.zero_grad()\n",
    "\n",
    "        if index % 10 == 0:\n",
    "            loss, current = loss.item(), index * len(case)\n",
    "            print(f\"loss: {loss:>7f}  [{current:>5d}/{size:>5d}]\")\n",
    "        \n",
    "train(details, results, model, lossFn, optimizer)"
   ]
  }
 ],
 "metadata": {
  "kernelspec": {
   "display_name": "torch",
   "language": "python",
   "name": "python3"
  },
  "language_info": {
   "codemirror_mode": {
    "name": "ipython",
    "version": 3
   },
   "file_extension": ".py",
   "mimetype": "text/x-python",
   "name": "python",
   "nbconvert_exporter": "python",
   "pygments_lexer": "ipython3",
   "version": "3.11.5"
  }
 },
 "nbformat": 4,
 "nbformat_minor": 2
}
